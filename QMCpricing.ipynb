{
 "cells": [
  {
   "cell_type": "code",
   "execution_count": 1,
   "id": "7686bc58",
   "metadata": {},
   "outputs": [],
   "source": [
    "import matplotlib.pyplot as plt\n",
    "\n",
    "import numpy as np\n",
    "\n",
    "from qiskit import Aer, QuantumCircuit\n",
    "from qiskit.utils import QuantumInstance\n",
    "from qiskit.algorithms import IterativeAmplitudeEstimation, EstimationProblem, AmplitudeEstimation\n",
    "from qiskit.circuit.library import LinearAmplitudeFunction\n",
    "from qiskit_finance.circuit.library import LogNormalDistribution\n",
    "\n",
    "from qiskit import QuantumCircuit, QuantumRegister, ClassicalRegister\n",
    "from qiskit import Aer, execute\n",
    "from qiskit.tools.visualization import plot_histogram\n",
    "import math\n",
    "\n",
    "from custom_iae import CustomIterativeAmplitudeEstimation"
   ]
  },
  {
   "cell_type": "code",
   "execution_count": 2,
   "id": "97d45250",
   "metadata": {},
   "outputs": [
    {
     "name": "stdout",
     "output_type": "stream",
     "text": [
      "Used backend:  aer_simulator\n"
     ]
    }
   ],
   "source": [
    "from qiskit import IBMQ\n",
    "ibm_token = 'f42d45ee0b069b6c08e97fca17c15f5bac11363126fbbf31436bdbb522fd9c53bbed7cf41eb3d40d3f5653c54096c80ccf0231a6a258795ad5e66f0bf3fafeae' # https://quantum-computing.ibm.com/account\n",
    "ibmq_account = IBMQ.enable_account(ibm_token)\n",
    "ibmq_provider = IBMQ.get_provider(hub='ibm-q-skku', group='snu', project='snu-students')\n",
    "# print(\"Available IBMQ backends:\")\n",
    "# print(ibmq_provider.backends())\n",
    "\n",
    "ibmq_backend_sim = ibmq_provider.get_backend('ibmq_qasm_simulator')\n",
    "ibmq_backend_real = ibmq_provider.get_backend('ibmq_jakarta')\n",
    "aer_backend = Aer.get_backend(\"aer_simulator\")\n",
    "backend = aer_backend\n",
    "iterationShot = 100\n",
    "qi = QuantumInstance(backend, shots=iterationShot)\n",
    "\n",
    "print(\"Used backend: \", backend)"
   ]
  },
  {
   "cell_type": "code",
   "execution_count": 3,
   "id": "62822738",
   "metadata": {},
   "outputs": [
    {
     "name": "stdout",
     "output_type": "stream",
     "text": [
      "num_uncertainty_qubits : 2\n",
      "initial spot price     : 2.0000\n",
      "volatility             : 0.4000\n",
      "annual interest rate   : 0.0500\n",
      "days to maturity       : 39.4521\n",
      "strike_price           : 1.8960\n"
     ]
    }
   ],
   "source": [
    "# params\n",
    "# number of qubits to represent the uncertainty\n",
    "num_uncertainty_qubits = 2\n",
    "\n",
    "# parameters for considered random distribution\n",
    "S = 2.0  # initial spot price\n",
    "vol = 0.4  # volatility of 40%\n",
    "r = 0.05  # annual interest rate of 4%\n",
    "T = 40 / 365  # 40 days to maturity\n",
    "\n",
    "print(\"num_uncertainty_qubits : %d\" % num_uncertainty_qubits)\n",
    "print(\"initial spot price     : %.4f\" % S)\n",
    "print(\"volatility             : %.4f\" % vol)\n",
    "print(\"annual interest rate   : %.4f\" % r)\n",
    "print(\"days to maturity       : %.4f\" % (T * 360))\n",
    "\n",
    "# resulting parameters for log-normal distribution\n",
    "mu = (r - 0.5 * vol**2) * T + np.log(S)\n",
    "sigma = vol * np.sqrt(T)\n",
    "mean = np.exp(mu + sigma**2 / 2)\n",
    "variance = (np.exp(sigma**2) - 1) * np.exp(2 * mu + sigma**2)\n",
    "stddev = np.sqrt(variance)\n",
    "\n",
    "# lowest and highest value considered for the spot price; in between, an equidistant discretization is considered.\n",
    "low = np.maximum(0, mean - 3 * stddev)\n",
    "high = mean + 3 * stddev\n",
    "\n",
    "# set the strike price (should be within the low and the high value of the uncertainty)\n",
    "strike_price = 1.896\n",
    "print(\"strike_price           : %.4f\" % strike_price)\n",
    "\n",
    "# construct A operator for QAE for the payoff function by\n",
    "# composing the uncertainty model and the objective\n",
    "uncertainty_model = LogNormalDistribution(\n",
    "    num_uncertainty_qubits, mu=mu, sigma=sigma**2, bounds=(low, high)\n",
    ")"
   ]
  },
  {
   "cell_type": "code",
   "execution_count": 4,
   "id": "48891ef3",
   "metadata": {},
   "outputs": [],
   "source": [
    "def mkEuropeanCallObjective(c_approx):\n",
    "    # setup piecewise linear objective function\n",
    "    breakpoints = [low, strike_price]\n",
    "    slopes = [0, 1]\n",
    "    offsets = [0, 0]\n",
    "    f_min = 0\n",
    "    f_max = high - strike_price\n",
    "    european_call_objective = LinearAmplitudeFunction(\n",
    "        num_uncertainty_qubits,\n",
    "        slopes,\n",
    "        offsets,\n",
    "        domain=(low, high),\n",
    "        image=(f_min, f_max),\n",
    "        breakpoints=breakpoints,\n",
    "        rescaling_factor=c_approx,\n",
    "    )\n",
    "\n",
    "    return european_call_objective\n",
    "\n",
    "\n",
    "def mkPayoffCircuit(european_call_objective):\n",
    "    # construct A operator for QAE for the payoff function by\n",
    "    # composing the uncertainty model and the objective\n",
    "    num_qubits = european_call_objective.num_qubits\n",
    "    european_call = QuantumCircuit(num_qubits)\n",
    "    european_call.append(uncertainty_model, range(num_uncertainty_qubits))\n",
    "    european_call.append(european_call_objective, range(num_qubits))\n",
    "\n",
    "    return european_call\n",
    "\n",
    "\n",
    "def runAndGetCounts(qc, shots=1024):\n",
    "    \"\"\"Simulates the given circuit and plots the result.\"\"\"\n",
    "    result = execute(qc, backend, shots=shots).result()\n",
    "    counts = result.get_counts(qc)\n",
    "\n",
    "    return counts\n",
    "\n",
    "def plotFromCounts(counts, title='result'):\n",
    "    plot_histogram(counts, title=title)\n"
   ]
  },
  {
   "cell_type": "code",
   "execution_count": 5,
   "id": "15d0947d",
   "metadata": {},
   "outputs": [
    {
     "name": "stdout",
     "output_type": "stream",
     "text": [
      "approximation scaling for the payoff function : 0.2500\n"
     ]
    },
    {
     "data": {
      "text/plain": [
       "<qiskit.circuit.instructionset.InstructionSet at 0x7fe95a2963c0>"
      ]
     },
     "execution_count": 5,
     "metadata": {},
     "output_type": "execute_result"
    }
   ],
   "source": [
    "# main part\n",
    "\n",
    "# set the approximation scaling for the payoff function\n",
    "c_approx = 0.25\n",
    "print(\"approximation scaling for the payoff function : %.4f\" % c_approx)\n",
    "\n",
    "mainCirc = QuantumCircuit(num_uncertainty_qubits * 2 + 1, 1)\n",
    "europeanCallObjective = mkEuropeanCallObjective(c_approx)\n",
    "payoffCircuit = mkPayoffCircuit(europeanCallObjective)\n",
    "payoffCircuit.draw()\n",
    "mainCirc.compose(payoffCircuit, range(num_uncertainty_qubits * 2 + 1), inplace=True)\n",
    "mainCirc.measure([num_uncertainty_qubits], [0])\n",
    "#mainCirc.draw()"
   ]
  },
  {
   "cell_type": "code",
   "execution_count": 6,
   "id": "188350ec",
   "metadata": {},
   "outputs": [
    {
     "name": "stdout",
     "output_type": "stream",
     "text": [
      "approximation scaling for the payoff function : 0.2500\n",
      "==========================================\n",
      "Simple method (Just shot 1024 times on PF \\ket{0}^2)\n",
      "Exact value:        \t0.1804\n",
      "Estimated value:    \t0.1096\n"
     ]
    }
   ],
   "source": [
    "# main part\n",
    "\n",
    "# set the approximation scaling for the payoff function\n",
    "c_approx = 0.25\n",
    "print(\"approximation scaling for the payoff function : %.4f\" % c_approx)\n",
    "\n",
    "mainCirc = QuantumCircuit(num_uncertainty_qubits * 2 + 1, 1)\n",
    "europeanCallObjective = mkEuropeanCallObjective(c_approx)\n",
    "payoffCircuit = mkPayoffCircuit(europeanCallObjective)\n",
    "payoffCircuit.draw()\n",
    "mainCirc.compose(payoffCircuit, range(num_uncertainty_qubits * 2 + 1), inplace=True)\n",
    "mainCirc.measure([num_uncertainty_qubits], [0])\n",
    "#mainCirc.draw()\n",
    "\n",
    "# european_call_objective.post_processing\n",
    "shotsOnce = 1024\n",
    "counts = runAndGetCounts(mainCirc, shots=shotsOnce)\n",
    "probability = counts['1'] / (counts['1'] + counts['0'])\n",
    "\n",
    "# evaluate exact expected value (normalized to the [0, 1] interval)\n",
    "exact_value = np.dot(uncertainty_model.probabilities, np.maximum(0, uncertainty_model.values - strike_price))\n",
    "\n",
    "print(\"==========================================\")\n",
    "print(\"Simple method (Just shot %d times on PF \\ket{0}^%d)\" % (shotsOnce, num_uncertainty_qubits))\n",
    "print(\"Exact value:        \\t%.4f\" % exact_value)\n",
    "print(\"Estimated value:    \\t%.4f\" % europeanCallObjective.post_processing(probability))"
   ]
  },
  {
   "cell_type": "code",
   "execution_count": 7,
   "id": "cf88f867",
   "metadata": {},
   "outputs": [],
   "source": [
    "# set target precision and confidence level\n",
    "epsilon = 0.01\n",
    "alpha = 0.05\n",
    "\n",
    "# qi = QuantumInstance(Aer.get_backend(\"aer_simulator\"), shots=100)\n",
    "problem = EstimationProblem(\n",
    "    state_preparation=payoffCircuit,\n",
    "    objective_qubits=[num_uncertainty_qubits],\n",
    "    post_processing=europeanCallObjective.post_processing,\n",
    ")\n",
    "# construct amplitude estimation\n",
    "ae = CustomIterativeAmplitudeEstimation(epsilon, alpha=alpha, quantum_instance=qi)"
   ]
  },
  {
   "cell_type": "code",
   "execution_count": 8,
   "id": "3cbcaea7",
   "metadata": {},
   "outputs": [
    {
     "name": "stdout",
     "output_type": "stream",
     "text": [
      "==========================================\n",
      "epsilon                : 0.0100\n",
      "alpha                  : 0.0500\n",
      "IterativeAmplitudeEstimation (Shot 100 times for every iteration)\n",
      "Exact value:        \t0.1804\n",
      "Estimated value:    \t0.1897\n",
      "Confidence interval:\t[0.1841, 0.1952]\n"
     ]
    }
   ],
   "source": [
    "result = ae.estimate(problem)\n",
    "\n",
    "conf_int = np.array(result.confidence_interval_processed)\n",
    "print(\"==========================================\")\n",
    "print(\"epsilon                : %.4f\" % epsilon)\n",
    "print(\"alpha                  : %.4f\" % alpha)\n",
    "print(\"IterativeAmplitudeEstimation (Shot %d times for every iteration)\" % (iterationShot))\n",
    "print(\"Exact value:        \\t%.4f\" % exact_value)\n",
    "print(\"Estimated value:    \\t%.4f\" % (result.estimation_processed))\n",
    "print(\"Confidence interval:\\t[%.4f, %.4f]\" % tuple(conf_int))\n",
    "\n",
    "#ae_circuit = ae.construct_circuit(problem, k=1)\n",
    "#from qiskit import transpile\n",
    "#basis_gates = [\"h\", \"ry\", \"cry\", \"cx\", \"ccx\", \"p\", \"cp\", \"x\", \"s\", \"sdg\", \"y\", \"t\", \"cz\"]\n",
    "#transpile(ae_circuit, basis_gates=basis_gates, optimization_level=2).draw(\"mpl\", style=\"iqx\", filename=\"circuit.png\")"
   ]
  },
  {
   "cell_type": "code",
   "execution_count": null,
   "id": "5aa696ae",
   "metadata": {},
   "outputs": [],
   "source": []
  }
 ],
 "metadata": {
  "kernelspec": {
   "display_name": "Python 3.7.13 ('qiskit')",
   "language": "python",
   "name": "python3"
  },
  "language_info": {
   "codemirror_mode": {
    "name": "ipython",
    "version": 3
   },
   "file_extension": ".py",
   "mimetype": "text/x-python",
   "name": "python",
   "nbconvert_exporter": "python",
   "pygments_lexer": "ipython3",
   "version": "3.7.13"
  },
  "vscode": {
   "interpreter": {
    "hash": "f2c61a5ba6e96cd4397cd399558101394a74f3848f9af9cbf140fdab1f17b405"
   }
  }
 },
 "nbformat": 4,
 "nbformat_minor": 5
}
